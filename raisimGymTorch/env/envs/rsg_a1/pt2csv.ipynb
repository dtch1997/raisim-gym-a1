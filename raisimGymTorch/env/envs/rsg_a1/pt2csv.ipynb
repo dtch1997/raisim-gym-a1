{
 "cells": [
  {
   "cell_type": "code",
   "execution_count": 1,
   "metadata": {
    "ExecuteTime": {
     "end_time": "2022-07-14T14:34:02.430895Z",
     "start_time": "2022-07-14T14:34:01.528459Z"
    },
    "code_folding": [
     0
    ],
    "colab": {
     "base_uri": "https://localhost:8080/",
     "height": 34
    },
    "colab_type": "code",
    "id": "-_7Q0xiLu1gI",
    "outputId": "9f8877f5-ff47-4bd3-c343-160d5334903d"
   },
   "outputs": [],
   "source": [
    "# Dependencies\n",
    "import os\n",
    "import time\n",
    "import copy\n",
    "import pickle\n",
    "import pathlib\n",
    "import numpy as np\n",
    "from dataclasses import dataclass\n",
    "import torch\n",
    "from ruamel.yaml import YAML, dump, RoundTripDumper\n",
    "import raisimGymTorch.algo.ppo.module as ppo_module"
   ]
  },
  {
   "cell_type": "code",
   "execution_count": 2,
   "metadata": {
    "ExecuteTime": {
     "end_time": "2022-07-14T14:34:02.436280Z",
     "start_time": "2022-07-14T14:34:02.432410Z"
    },
    "code_folding": [
     7
    ]
   },
   "outputs": [
    {
     "name": "stdout",
     "output_type": "stream",
     "text": [
      "['test_110722_200522.mp4', 'csv', 'test_log_110722_200522.csv', 'test_log_290622_115648.csv', 'test_290622_104052.mp4', 'mean.csv', 'full.pt', 'action.npy', 'eval_log.csv', 'var.csv', 'test_290622_115648.mp4', 'observation.npy', 'train_policy.mp4']\n",
      "/home/willw/raisim/rsmGymA1/data//a1_locomotion/220628-001611/1450//csv/\n"
     ]
    }
   ],
   "source": [
    "# This notebook will generate a csv folder beside the .pt file\n",
    "# All csv files for miniDNN will be stored in this folder\n",
    "HOME_PATH = '/home/willw/raisim/rsmGymA1/data/'\n",
    "DATA_PATH = HOME_PATH + \"/a1_locomotion\"\n",
    "EXP_DATE = \"220628-001611\"\n",
    "ITER_NUM = \"1450\"\n",
    "BASE_CHECKPOINT_PATH = f\"{DATA_PATH}/{EXP_DATE}/{ITER_NUM}/\"\n",
    "logFiles = os.listdir(BASE_CHECKPOINT_PATH)\n",
    "print(logFiles)\n",
    "\n",
    "outDir = f'{BASE_CHECKPOINT_PATH}/csv/'\n",
    "print(outDir)\n",
    "if not os.path.exists(outDir):\n",
    "    os.makedirs(outDir)"
   ]
  },
  {
   "cell_type": "code",
   "execution_count": 3,
   "metadata": {
    "ExecuteTime": {
     "end_time": "2022-07-14T14:34:06.412535Z",
     "start_time": "2022-07-14T14:34:02.438129Z"
    },
    "colab": {},
    "colab_type": "code",
    "id": "AvNQ2AeLu_J8",
    "scrolled": false
   },
   "outputs": [
    {
     "data": {
      "text/plain": [
       "<All keys matched successfully>"
      ]
     },
     "execution_count": 3,
     "metadata": {},
     "output_type": "execute_result"
    }
   ],
   "source": [
    "ob_dim=38\n",
    "act_dim=12\n",
    "cfg = YAML().load(open(f\"{DATA_PATH}/{EXP_DATE}/cfg.yaml\", 'r'))\n",
    "actor = ppo_module.MLP(cfg['architecture']['policy_net'], torch.nn.LeakyReLU, ob_dim, act_dim)\n",
    "actor.load_state_dict(torch.load(f\"{BASE_CHECKPOINT_PATH}/full.pt\")['actor_architecture_state_dict'])"
   ]
  },
  {
   "cell_type": "code",
   "execution_count": 4,
   "metadata": {
    "ExecuteTime": {
     "end_time": "2022-07-14T14:34:06.420198Z",
     "start_time": "2022-07-14T14:34:06.414293Z"
    },
    "code_folding": [
     0
    ],
    "hide_input": true
   },
   "outputs": [
    {
     "name": "stdout",
     "output_type": "stream",
     "text": [
      "actor_architecture_state_dict :  architecture.0.weight : torch.Size([128, 38])\n",
      "actor_architecture_state_dict :  architecture.0.bias : torch.Size([128])\n",
      "actor_architecture_state_dict :  architecture.2.weight : torch.Size([128, 128])\n",
      "actor_architecture_state_dict :  architecture.2.bias : torch.Size([128])\n",
      "actor_architecture_state_dict :  architecture.4.weight : torch.Size([12, 128])\n",
      "actor_architecture_state_dict :  architecture.4.bias : torch.Size([12])\n",
      "actor_distribution_state_dict :  std : torch.Size([12])\n",
      "critic_architecture_state_dict :  architecture.0.weight : torch.Size([128, 38])\n",
      "critic_architecture_state_dict :  architecture.0.bias : torch.Size([128])\n",
      "critic_architecture_state_dict :  architecture.2.weight : torch.Size([128, 128])\n",
      "critic_architecture_state_dict :  architecture.2.bias : torch.Size([128])\n",
      "critic_architecture_state_dict :  architecture.4.weight : torch.Size([1, 128])\n",
      "critic_architecture_state_dict :  architecture.4.bias : torch.Size([1])\n"
     ]
    }
   ],
   "source": [
    "# inspect .pt file\n",
    "actor_dict = torch.load(f'{BASE_CHECKPOINT_PATH}/full.pt', map_location=torch.device(\"cpu\"))\n",
    "for i in actor_dict.keys():\n",
    "    for ky, im in actor_dict[i].items():\n",
    "        if(hasattr(im, 'shape')):\n",
    "            print(i,\": \",ky,\":\", im.shape)\n",
    "#     np.savetxt(f\"{outDir}/{i}.csv\", actor_dict[i], fmt ='%.4f', delimiter =',')"
   ]
  },
  {
   "cell_type": "code",
   "execution_count": 5,
   "metadata": {
    "ExecuteTime": {
     "end_time": "2022-07-14T14:34:07.748600Z",
     "start_time": "2022-07-14T14:34:07.737341Z"
    }
   },
   "outputs": [
    {
     "name": "stdout",
     "output_type": "stream",
     "text": [
      "architecture.0.weight : torch.Size([128, 38])\n",
      "architecture.0.bias : torch.Size([128])\n",
      "architecture.2.weight : torch.Size([128, 128])\n",
      "architecture.2.bias : torch.Size([128])\n",
      "architecture.4.weight : torch.Size([12, 128])\n",
      "architecture.4.bias : torch.Size([12])\n"
     ]
    }
   ],
   "source": [
    "actor_dict = torch.load(f'{BASE_CHECKPOINT_PATH}/full.pt', map_location=torch.device(\"cpu\"))['actor_architecture_state_dict']\n",
    "for ky, im in actor_dict.items():\n",
    "    np.savetxt(f\"{outDir}/{ky}.csv\", im, fmt ='%.4f', delimiter =',')\n",
    "    print(ky,\":\", im.shape)"
   ]
  },
  {
   "cell_type": "code",
   "execution_count": 6,
   "metadata": {
    "ExecuteTime": {
     "end_time": "2022-07-14T14:34:09.034708Z",
     "start_time": "2022-07-14T14:34:09.030528Z"
    }
   },
   "outputs": [],
   "source": [
    "obMean = np.loadtxt(f'{BASE_CHECKPOINT_PATH}/mean.csv', delimiter =',')\n",
    "obVar = np.loadtxt(f'{BASE_CHECKPOINT_PATH}/var.csv', delimiter =',')\n",
    "obStd = np.sqrt(obVar+1e-8)\n",
    "jointPgain = [50] * 12\n",
    "jointDgain = [0.2] * 12\n",
    "actionMean = [-0.1, 0.75, -1.6, 0.1, 0.75, -1.6, -0.1, 0.75, -1.6, 0.1, 0.75, -1.6]\n",
    "actionStd = [0.3] * 12\n",
    "actionMrg = [10] * 12"
   ]
  },
  {
   "cell_type": "code",
   "execution_count": 23,
   "metadata": {
    "ExecuteTime": {
     "end_time": "2022-07-11T11:14:27.501057Z",
     "start_time": "2022-07-11T11:14:27.494917Z"
    }
   },
   "outputs": [],
   "source": [
    "if os.path.exists(f'{outDir}/obStd.csv'):\n",
    "    os.remove(f'{outDir}/obStd.csv')\n",
    "if os.path.exists(f'{outDir}/obMean.csv'):\n",
    "    os.remove(f'{outDir}/obMean.csv')\n",
    "np.savetxt(f'{outDir}/obMean.csv', obMean, fmt ='%.8f', delimiter =',')\n",
    "np.savetxt(f'{outDir}/obStd.csv', obStd , fmt ='%.8f', delimiter =',')\n",
    "np.savetxt(f\"{outDir}/jointPgain.csv\", jointPgain, fmt ='%.1f', delimiter =',')\n",
    "np.savetxt(f\"{outDir}/jointDgain.csv\", jointDgain, fmt ='%.2f', delimiter =',')\n",
    "np.savetxt(f\"{outDir}/acMean.csv\", actionMean, fmt ='%.3f', delimiter =',')\n",
    "np.savetxt(f\"{outDir}/acStd.csv\", actionStd, fmt ='%.3f', delimiter =',')\n",
    "np.savetxt(f\"{outDir}/acMargin.csv\", actionMrg, fmt ='%.5f', delimiter =',')"
   ]
  },
  {
   "cell_type": "code",
   "execution_count": null,
   "metadata": {
    "ExecuteTime": {
     "end_time": "2022-07-11T08:16:48.172121Z",
     "start_time": "2022-07-11T08:16:48.142551Z"
    }
   },
   "outputs": [],
   "source": [
    "# Verify that loaded network works the same as training \n",
    "obSet = np.load(f'{BASE_CHECKPOINT_PATH}/observation.npy')[:,0,:]\n",
    "acSet = np.load(f'{BASE_CHECKPOINT_PATH}/action.npy')[:,0,:]\n",
    "for obs, ac in zip(obSet, acSet):\n",
    "    action_ll = actor.architecture(torch.from_numpy(obs).cpu())\n",
    "    print(\"pyt:\", action_ll.detach().numpy())\n",
    "    print(\"set:\", ac)"
   ]
  },
  {
   "cell_type": "code",
   "execution_count": 59,
   "metadata": {
    "ExecuteTime": {
     "end_time": "2022-06-29T04:16:27.662761Z",
     "start_time": "2022-06-29T04:16:27.651249Z"
    }
   },
   "outputs": [],
   "source": [
    "np.savetxt(f\"{outDir}/obSet.csv\", obSet, fmt ='%.4f', delimiter =',')\n",
    "np.savetxt(f\"{outDir}/acSet.csv\", acSet, fmt ='%.4f', delimiter =',')"
   ]
  },
  {
   "cell_type": "code",
   "execution_count": 7,
   "metadata": {
    "ExecuteTime": {
     "end_time": "2022-07-14T14:34:40.876753Z",
     "start_time": "2022-07-14T14:34:40.865930Z"
    }
   },
   "outputs": [
    {
     "name": "stdout",
     "output_type": "stream",
     "text": [
      "(38,)\n",
      "pyt: [-0.24298366  0.96925299 -1.77873883 -0.10515217  0.70804655 -1.59281431\n",
      "  0.12827864  0.8932572  -1.10546324  0.24303446  0.75673213 -1.4346742 ]\n",
      "Gzb: [-0.242944  0.969328 -1.77864  -0.105204  0.707987 -1.59278   0.128312\n",
      "  0.893308 -1.10543   0.243095  0.75673  -1.43475 ]\n",
      "Dif: [-3.96630821e-05 -7.50083237e-05 -9.88324738e-05  5.18281498e-05\n",
      "  5.95495586e-05 -3.43100813e-05 -3.33571072e-05 -5.07963018e-05\n",
      " -3.32425308e-05 -6.05358791e-05  2.12669790e-06  7.58025646e-05]\n"
     ]
    }
   ],
   "source": [
    "ob=np.array([0.282235, 0.0609965, -0.00398822, 0.99813, -0.0763699, 0.744449, -1.65893, 0.0754569, 0.749086, -1.65433, -0.0330489, 0.67921, -1.74906, 0.0336214, 0.67846, -1.74376, 0.0182143, -0.000910908, 0.0249357, 0.00400675, -0.0124857, 0.00130095, 0, 0, 0, 0.00601475, -0.00498411, 0.173749, -0.00740538, -0.00289552, 0.169396, 0.00322394, 0.0318879, 0.123273, -0.0019017, 0.0352441, 0.116703, 0.03])\n",
    "ac=np.array([-0.242944, 0.969328, -1.77864, -0.105204, 0.707987, -1.59278, 0.128312, 0.893308, -1.10543, 0.243095, 0.75673, -1.43475])\n",
    "print(ob.shape)\n",
    "ob = ((ob-obMean)/obStd).astype(np.float32)\n",
    "action_ll = actor.architecture(torch.from_numpy(ob).cpu())\n",
    "print(\"pyt:\", action_ll.detach().numpy()*actionStd+actionMean)\n",
    "print(\"Gzb:\", ac)\n",
    "print(\"Dif:\", action_ll.detach().numpy()*actionStd+actionMean-ac)"
   ]
  },
  {
   "cell_type": "code",
   "execution_count": 14,
   "metadata": {
    "ExecuteTime": {
     "end_time": "2022-07-13T16:38:00.568782Z",
     "start_time": "2022-07-13T16:38:00.566044Z"
    }
   },
   "outputs": [
    {
     "data": {
      "text/plain": [
       "0.7992425649031712"
      ]
     },
     "execution_count": 14,
     "metadata": {},
     "output_type": "execute_result"
    }
   ],
   "source": [
    "np.sqrt(0.707943**2 + 0.370952**2 )"
   ]
  }
 ],
 "metadata": {
  "colab": {
   "collapsed_sections": [],
   "name": "test_recurrent_ppo.ipynb",
   "provenance": []
  },
  "kernelspec": {
   "display_name": "Python 3 (ipykernel)",
   "language": "python",
   "name": "python3"
  },
  "language_info": {
   "codemirror_mode": {
    "name": "ipython",
    "version": 3
   },
   "file_extension": ".py",
   "mimetype": "text/x-python",
   "name": "python",
   "nbconvert_exporter": "python",
   "pygments_lexer": "ipython3",
   "version": "3.8.13"
  },
  "varInspector": {
   "cols": {
    "lenName": 16,
    "lenType": 16,
    "lenVar": 40
   },
   "kernels_config": {
    "python": {
     "delete_cmd_postfix": "",
     "delete_cmd_prefix": "del ",
     "library": "var_list.py",
     "varRefreshCmd": "print(var_dic_list())"
    },
    "r": {
     "delete_cmd_postfix": ") ",
     "delete_cmd_prefix": "rm(",
     "library": "var_list.r",
     "varRefreshCmd": "cat(var_dic_list()) "
    }
   },
   "position": {
    "height": "469.85px",
    "left": "524px",
    "right": "20px",
    "top": "45px",
    "width": "351px"
   },
   "types_to_exclude": [
    "module",
    "function",
    "builtin_function_or_method",
    "instance",
    "_Feature"
   ],
   "window_display": false
  }
 },
 "nbformat": 4,
 "nbformat_minor": 1
}
